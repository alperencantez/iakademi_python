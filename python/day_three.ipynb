{
 "cells": [
  {
   "cell_type": "markdown",
   "metadata": {},
   "source": [
    "### Introduction to Python 🐍: Practices, Exercises\n",
    "_Create 10 numbers in a list. Get an input from user. If input matches one of the current existing numbers delete it and when list's length reaches 8, exit the app_"
   ]
  },
  {
   "cell_type": "code",
   "execution_count": 2,
   "metadata": {},
   "outputs": [
    {
     "name": "stdout",
     "output_type": "stream",
     "text": [
      "[17, 61, 91, 81, 39, 54, 87, 27, 18, 53]\n",
      "The number is not in the list\n",
      "The number is in the list\n",
      "The number is not in the list\n",
      "The number is not in the list\n",
      "The number is in the list\n",
      "[61, 91, 81, 39, 54, 87, 27, 53]\n"
     ]
    }
   ],
   "source": [
    "import random\n",
    "\n",
    "my_list = []\n",
    "for i in range (10):\n",
    "    my_list.append(random.randint(0, 100))\n",
    "\n",
    "print(my_list)\n",
    "\n",
    "while True:\n",
    "    if len(my_list) == 8:\n",
    "        print(my_list)\n",
    "        break\n",
    "\n",
    "    get_input = input(\"Enter a number: \")\n",
    "    if (int(get_input) in my_list):\n",
    "        print(\"The number is in the list\")\n",
    "        my_list.remove(int(get_input))\n",
    "    else:\n",
    "        print(\"The number is not in the list\")"
   ]
  },
  {
   "cell_type": "markdown",
   "metadata": {},
   "source": [
    "_Get a sentence from user and count how many unique words are there in the sentence_"
   ]
  },
  {
   "cell_type": "code",
   "execution_count": 33,
   "metadata": {},
   "outputs": [
    {
     "name": "stdout",
     "output_type": "stream",
     "text": [
      "4 unique words\n"
     ]
    }
   ],
   "source": [
    "get_input = input(\"Provide a sentence: \")\n",
    "my_arr = get_input.split(\" \")\n",
    "\n",
    "unique_words = []\n",
    "\n",
    "for i in my_arr:\n",
    "    if i not in unique_words:\n",
    "        unique_words.append(i)\n",
    "\n",
    "print(len(unique_words), \"unique words\")\n"
   ]
  },
  {
   "cell_type": "markdown",
   "metadata": {},
   "source": [
    "_Get a sentence from user. If a banned word is in, replace it with \".\"_"
   ]
  },
  {
   "cell_type": "code",
   "execution_count": 71,
   "metadata": {},
   "outputs": [
    {
     "name": "stdout",
     "output_type": "stream",
     "text": [
      ". herif\n"
     ]
    }
   ],
   "source": [
    "sentence = input(\"Enter words: \")\n",
    "words = sentence.split(\" \")\n",
    "output = \"\"\n",
    "banned_words = [\"aptal\", \"salak\"] \n",
    "\n",
    "for word in words:\n",
    "    if word in banned_words:\n",
    "        output += \".\"\n",
    "    else:\n",
    "        output += \" \" + word\n",
    "\n",
    "print(output)"
   ]
  },
  {
   "cell_type": "markdown",
   "metadata": {},
   "source": [
    "_Calculator, if input equals to -1 stop the execution._"
   ]
  },
  {
   "cell_type": "code",
   "execution_count": 87,
   "metadata": {},
   "outputs": [
    {
     "name": "stdout",
     "output_type": "stream",
     "text": [
      "7\n",
      "8\n",
      "You've exited the app\n"
     ]
    }
   ],
   "source": [
    "while True:\n",
    "    get_input1 = int(input(\"First number: \"))\n",
    "    if get_input1 == -1:\n",
    "        print(\"You've exited the app\")\n",
    "        break\n",
    "    get_operation = input(\"You want to: \")\n",
    "    if get_operation == -1:\n",
    "        print(\"You've exited the app\")\n",
    "        break\n",
    "    get_input2 = int(input(\"Second number: \"))\n",
    "    if get_input2 == -1:\n",
    "        print(\"You've exited the app\")\n",
    "        break\n",
    "\n",
    "    if get_input1 == -1 or get_input2 == -1 or get_operation == -1:\n",
    "        print(\"You've exited the app\")\n",
    "        break\n",
    "    else: \n",
    "        def addition():\n",
    "            print(get_input1 + get_input2)\n",
    "\n",
    "        def sub():\n",
    "            print(get_input1 - get_input2)\n",
    "\n",
    "        def multiply():\n",
    "            print(get_input1 * get_input2)\n",
    "\n",
    "        def division():\n",
    "            print(get_input1 / get_input2)\n",
    "\n",
    "\n",
    "        if get_operation == \"+\":\n",
    "            addition()\n",
    "        elif get_operation == \"-\":\n",
    "            sub()\n",
    "        elif get_operation == \"*\":\n",
    "            multiply()\n",
    "        elif get_operation == \"/\":\n",
    "            division()       \n"
   ]
  },
  {
   "cell_type": "markdown",
   "metadata": {},
   "source": [
    "_Same calculator as above but user can provide endless number of inputs_"
   ]
  },
  {
   "cell_type": "code",
   "execution_count": null,
   "metadata": {},
   "outputs": [],
   "source": [
    "def get_numbers():\n",
    "    numbers = []\n",
    "    while True:\n",
    "        try:\n",
    "            number = int(input(\"Enter a number: \"))\n",
    "            numbers.append(number)\n",
    "        except ValueError:\n",
    "            break\n",
    "\n",
    "    return numbers\n",
    "\n",
    "def addition(numbers: list[int]):\n",
    "    result = 0\n",
    "    for number in numbers:\n",
    "        result += number\n",
    "    return result\n",
    "\n",
    "def select_operation(numbers):\n",
    "    operation = input(\"Select an operation: \")\n",
    "    \n",
    "    if operation == \"+\":\n",
    "        print(addition(numbers))\n",
    "\n",
    "select_operation(get_numbers())"
   ]
  }
 ],
 "metadata": {
  "interpreter": {
   "hash": "916dbcbb3f70747c44a77c7bcd40155683ae19c65e1c03b4aa3499c5328201f1"
  },
  "kernelspec": {
   "display_name": "Python 3.10.4 64-bit",
   "language": "python",
   "name": "python3"
  },
  "language_info": {
   "codemirror_mode": {
    "name": "ipython",
    "version": 3
   },
   "file_extension": ".py",
   "mimetype": "text/x-python",
   "name": "python",
   "nbconvert_exporter": "python",
   "pygments_lexer": "ipython3",
   "version": "3.10.4"
  },
  "orig_nbformat": 4
 },
 "nbformat": 4,
 "nbformat_minor": 2
}
