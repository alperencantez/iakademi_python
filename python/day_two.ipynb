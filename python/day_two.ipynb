{
 "cells": [
  {
   "cell_type": "markdown",
   "metadata": {},
   "source": [
    "### Introduction to Python 🐍: Loops II, Lists, Functions\n",
    "- _Check and print letters and how many of a letter is available in a given input_"
   ]
  },
  {
   "cell_type": "code",
   "execution_count": 1,
   "metadata": {},
   "outputs": [
    {
     "name": "stdout",
     "output_type": "stream",
     "text": [
      "a3c2s2"
     ]
    }
   ],
   "source": [
    "getInput = input(\"Enter your input: \")\n",
    "alpahbet = \"abcdefghijklmnopqrstuvwyxz\"\n",
    "\n",
    "for i in alpahbet:\n",
    "    if getInput.count(i):\n",
    "        print(i, getInput.count(i), sep=\"\", end=\"\")"
   ]
  },
  {
   "cell_type": "markdown",
   "metadata": {},
   "source": [
    "_Random number guessing game against the computer_"
   ]
  },
  {
   "cell_type": "code",
   "execution_count": 31,
   "metadata": {},
   "outputs": [
    {
     "name": "stdout",
     "output_type": "stream",
     "text": [
      "Maybe the next time...\n"
     ]
    }
   ],
   "source": [
    "import random\n",
    "counter = 0\n",
    "\n",
    "getInput = int(input(\"Enter a random number: \"))\n",
    "counter += 1\n",
    "\n",
    "random_number = random.randint(1, 5)\n",
    "while not 1 <= int(getInput) <= 5:\n",
    "    getInput = input(\"Enter a random number: \")\n",
    "    counter += 1\n",
    "\n",
    "    if counter == 3:\n",
    "        print(\"You have no tries left!\")\n",
    "        break\n",
    "\n",
    "if random_number == getInput:\n",
    "    print(\"Bravo!\")\n",
    "else:\n",
    "    print(\"Maybe the next time...\")"
   ]
  },
  {
   "cell_type": "markdown",
   "metadata": {},
   "source": [
    "_Print odd numbers of a given array of numbers_"
   ]
  },
  {
   "cell_type": "code",
   "execution_count": 32,
   "metadata": {},
   "outputs": [
    {
     "name": "stdout",
     "output_type": "stream",
     "text": [
      "11\n",
      "55\n",
      "123\n"
     ]
    }
   ],
   "source": [
    "number = [64, 20, 11, 55, 88, 123, 444, 90]\n",
    "\n",
    "for i in number:\n",
    "    if not i % 2 == 0:\n",
    "        print(i)"
   ]
  },
  {
   "cell_type": "markdown",
   "metadata": {},
   "source": [
    "- Functions"
   ]
  },
  {
   "cell_type": "code",
   "execution_count": 1,
   "metadata": {},
   "outputs": [
    {
     "name": "stdout",
     "output_type": "stream",
     "text": [
      "8 22\n",
      "0 4\n"
     ]
    }
   ],
   "source": [
    "def calculate_sum(number_1: int, number_2: int) -> int:\n",
    "    return number_1 + number_2\n",
    "\n",
    "\n",
    "def calculate_subs(number_1: int, number_2: int) -> int:\n",
    "    return number_1 - number_2\n",
    "\n",
    "\n",
    "sum_1 = calculate_sum(4, 4)\n",
    "sum_2 = calculate_sum(8, 14)\n",
    "\n",
    "sub_1 = calculate_subs(4, 4)\n",
    "sub_2 = calculate_subs(8, 4)\n",
    "\n",
    "print(sum_1, sum_2)\n",
    "print(sub_1, sub_2)\n",
    "\n",
    "# Scope of variables\n",
    "message = \"c\"\n",
    "\n",
    "def greet(name):\n",
    "    # global keyword lets us access the variable outside the function but it is not recommended\n",
    "    global message\n",
    "    message = \"a\"\n",
    "\n",
    "greet(\"berk\")\n",
    "print(message)"
   ]
  },
  {
   "cell_type": "markdown",
   "metadata": {},
   "source": [
    "_Email validitor_"
   ]
  },
  {
   "cell_type": "code",
   "execution_count": null,
   "metadata": {},
   "outputs": [],
   "source": [
    "def validateEmail(email):\n",
    "    print(email.count(\".\"))\n",
    "    if email.count(\"@\") != 1 or email.count(\".\") != 1:\n",
    "        return False\n",
    "    if len(email) > 20:\n",
    "        return False\n",
    "    return True\n",
    "\n",
    "print(validateEmail(\"alperen....@gmail.com\"))\n",
    "# returns false   "
   ]
  },
  {
   "cell_type": "markdown",
   "metadata": {},
   "source": [
    "_Check whether the given year (from 1900 to 2020) is leap year or not._"
   ]
  },
  {
   "cell_type": "code",
   "execution_count": null,
   "metadata": {},
   "outputs": [],
   "source": [
    "def leap_year(year):\n",
    "    if not 1900 <= year <= 2020:\n",
    "        print(\"Invalid year\")\n",
    "    else:\n",
    "        if year % 4 == 0:\n",
    "            if year % 100 == 0: \n",
    "                if year % 400 == 0:\n",
    "                    print(year, \"bir artık yıldır\")\n",
    "            else:\n",
    "                print(year, \"bir artık yıldır\")        \n",
    "        else:\n",
    "            print(year, \"artık bir yıl değildir\")\n",
    "\n",
    "\n",
    "leap_year(2020)    "
   ]
  },
  {
   "cell_type": "markdown",
   "metadata": {},
   "source": [
    "- Lists"
   ]
  },
  {
   "cell_type": "code",
   "execution_count": 3,
   "metadata": {},
   "outputs": [
    {
     "name": "stdout",
     "output_type": "stream",
     "text": [
      "0\n",
      "10.8\n",
      "[12, 25, 55, 9]\n",
      "[564, 6543, 232, 555, 124, 5413, 32145, 6523, 'alperen']\n",
      "[6543, 232, 555, 124, 5413, 32145, 6523, 'alperen']\n",
      "1\n",
      "[6543, 232, 555, 124, 5413, 32145, 6523]\n",
      "[6543, 232, 555, 44, 124, 5413, 32145, 6523]\n",
      "[11, 44, 124, 232, 555, 5413, 6523, 6543, 15311, 32145, 415313513, 45313145631]\n",
      "[]\n"
     ]
    }
   ],
   "source": [
    "list_1 = [3, 5, 27, 55]\n",
    "list_2 = [\"alperen\", 12, True, 10.8]\n",
    "list_1 = []\n",
    "list_1 = list()\n",
    "\n",
    "print(len(list_1))\n",
    "\n",
    "print(list_2[-1])\n",
    "\n",
    "list_4 = [12, 25, 55, 9, \"Apple\", \"Orange\"]\n",
    "print(list_4[0:4])\n",
    "\n",
    "\n",
    "number_list = [25, 11, 232, 555]\n",
    "number_list_2 = [124, 5413, 32145, 6523]\n",
    "\n",
    "# list concatenation\n",
    "list_5 = number_list + number_list_2\n",
    "\n",
    "list_5[0] = 21\n",
    "list_5[:2] = [564, 6543]\n",
    "\n",
    "list_5.append('alperen')\n",
    "print(list_5)\n",
    "\n",
    "list_5.pop(0)\n",
    "print(list_5)\n",
    "\n",
    "list_5.remove(\"alperen\")\n",
    "print(list_5.count(124))\n",
    "print(list_5)\n",
    "\n",
    "list_5.insert(3, 44)\n",
    "print(list_5)\n",
    "\n",
    "list_5.extend([11, 15311, 415313513, 45313145631])\n",
    "list_5.sort()\n",
    "print(list_5)\n",
    "\n",
    "list_5.clear()\n",
    "print(list_5)\n"
   ]
  },
  {
   "cell_type": "markdown",
   "metadata": {},
   "source": [
    "_Add user inputs to list and check if user is trying to provide the already existing value_"
   ]
  },
  {
   "cell_type": "code",
   "execution_count": 5,
   "metadata": {},
   "outputs": [
    {
     "name": "stdout",
     "output_type": "stream",
     "text": [
      "['4343f', 'hjuykılokö', '76kıtynhfg', 'uıkjhg', 'ukjhg']\n"
     ]
    }
   ],
   "source": [
    "index = 0\n",
    "names = []\n",
    "\n",
    "while True:\n",
    "    input_1 = input(\"Enter name: \")\n",
    "    if input_1 in names:\n",
    "        print(input_1, \"already exists\")\n",
    "    else:\n",
    "        names.append(input_1)\n",
    "        index += 1\n",
    "\n",
    "    if index == 5:\n",
    "        break\n",
    "print(names)    "
   ]
  }
 ],
 "metadata": {
  "interpreter": {
   "hash": "916dbcbb3f70747c44a77c7bcd40155683ae19c65e1c03b4aa3499c5328201f1"
  },
  "kernelspec": {
   "display_name": "Python 3.10.4 64-bit",
   "language": "python",
   "name": "python3"
  },
  "language_info": {
   "codemirror_mode": {
    "name": "ipython",
    "version": 3
   },
   "file_extension": ".py",
   "mimetype": "text/x-python",
   "name": "python",
   "nbconvert_exporter": "python",
   "pygments_lexer": "ipython3",
   "version": "3.10.4"
  },
  "orig_nbformat": 4
 },
 "nbformat": 4,
 "nbformat_minor": 2
}
