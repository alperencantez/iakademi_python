{
 "cells": [
  {
   "cell_type": "markdown",
   "metadata": {},
   "source": [
    "### Introduction to Python 🐍: Sets"
   ]
  },
  {
   "cell_type": "code",
   "execution_count": 15,
   "metadata": {},
   "outputs": [
    {
     "name": "stdout",
     "output_type": "stream",
     "text": [
      "{1, 2, 3, 4, 5}\n",
      "{1.5, 'hello', 'world', (1, 2, 3)}\n",
      "{32, 1.5, 'world', 10, (1, 2, 3), 'hello', 23}\n",
      "{1.5, 'world', 10, (1, 2, 3), 'hello', 23}\n",
      "{1.5, 'world', (1, 2, 3), 'hello', 23}\n",
      "{'world', (1, 2, 3), 'hello', 23}\n",
      "set()\n",
      "setlist after uniting: {1, 2, 3, 100, 4, 5, 10, 20, 30}\n",
      "setlist after intersecting: {100, 4}\n",
      "setlist after difference: {10, 20, 30}\n"
     ]
    }
   ],
   "source": [
    "numbers = [1, 1, 2, 3, 4, 5]\n",
    "# sets don't allow duplicates\n",
    "set_numbers = set(numbers)\n",
    "print(set_numbers)\n",
    "\n",
    "set_list = {1, 3, 5 ,2}\n",
    "# sets accept different data types as elements\n",
    "set_list2 ={1.5, \"hello\", (1, 2, 3)}\n",
    "set_list2.add(\"world\")\n",
    "print(set_list2)\n",
    "\n",
    "set_list2.update([10, 32, 23])\n",
    "print(set_list2)\n",
    "\n",
    "set_list2.discard(32)\n",
    "print(set_list2)\n",
    "# or\n",
    "set_list2.remove(10)\n",
    "print(set_list2)\n",
    "\n",
    "set_list2.pop()\n",
    "print(set_list2)\n",
    "\n",
    "set_list2.clear()\n",
    "print(set_list2)\n",
    "\n",
    "\n",
    "b = {100, 1, 2, 3, 4, 5}\n",
    "a = {100, 10, 20, 30, 4}\n",
    "\n",
    "print(\"setlist after uniting: {set_list2}\".format(set_list2=a|b))\n",
    "print(\"setlist after intersecting: {set_list2}\".format(set_list2=a&b))\n",
    "print(\"setlist after difference: {set_list2}\".format(set_list2=a-b))"
   ]
  },
  {
   "cell_type": "code",
   "execution_count": 18,
   "metadata": {},
   "outputs": [
    {
     "name": "stdout",
     "output_type": "stream",
     "text": [
      "[1, 2, 3, 4, 5]\n",
      "[2, 12, 30]\n"
     ]
    }
   ],
   "source": [
    "number_list = [1, 2, 3, 4]\n",
    "number_list.append(5)\n",
    "\n",
    "numbers_list2 = []\n",
    "for i in number_list:\n",
    "    numbers_list2.append(i)\n",
    "\n",
    "print(number_list)\n",
    "\n",
    "numbers_list2 = [(1,2), (3,4), (5,6)]\n",
    "number_list3 = [x*y for x,y in numbers_list2]\n",
    "print(number_list3)"
   ]
  },
  {
   "cell_type": "code",
   "execution_count": 28,
   "metadata": {},
   "outputs": [
    {
     "name": "stdout",
     "output_type": "stream",
     "text": [
      "Please enter a number\n",
      "Please enter a number\n"
     ]
    }
   ],
   "source": [
    "while True:\n",
    "    try:\n",
    "        number = int(input(\"Enter a number: \"))\n",
    "        break\n",
    "    except ValueError:\n",
    "        print(\"Please enter a number\")"
   ]
  },
  {
   "cell_type": "markdown",
   "metadata": {},
   "source": [
    "_Atm Machine_"
   ]
  },
  {
   "cell_type": "code",
   "execution_count": 71,
   "metadata": {},
   "outputs": [
    {
     "ename": "AttributeError",
     "evalue": "'tuple' object has no attribute 'get'",
     "output_type": "error",
     "traceback": [
      "\u001b[0;31m---------------------------------------------------------------------------\u001b[0m",
      "\u001b[0;31mAttributeError\u001b[0m                            Traceback (most recent call last)",
      "\u001b[1;32m/home/xyz/Desktop/Projects/iakademi/iakademi_python/python/day_five.ipynb Cell 6'\u001b[0m in \u001b[0;36m<cell line: 19>\u001b[0;34m()\u001b[0m\n\u001b[1;32m     <a href='vscode-notebook-cell:/home/xyz/Desktop/Projects/iakademi/iakademi_python/python/day_five.ipynb#ch0000006?line=16'>17</a>\u001b[0m get_pw \u001b[39m=\u001b[39m \u001b[39mint\u001b[39m(\u001b[39minput\u001b[39m(\u001b[39m\"\u001b[39m\u001b[39mPlease enter your password: \u001b[39m\u001b[39m\"\u001b[39m))\n\u001b[1;32m     <a href='vscode-notebook-cell:/home/xyz/Desktop/Projects/iakademi/iakademi_python/python/day_five.ipynb#ch0000006?line=18'>19</a>\u001b[0m \u001b[39mfor\u001b[39;00m i \u001b[39min\u001b[39;00m customers:\n\u001b[0;32m---> <a href='vscode-notebook-cell:/home/xyz/Desktop/Projects/iakademi/iakademi_python/python/day_five.ipynb#ch0000006?line=20'>21</a>\u001b[0m     \u001b[39mif\u001b[39;00m customers\u001b[39m.\u001b[39;49mget(\u001b[39m'\u001b[39m\u001b[39mpassword\u001b[39m\u001b[39m'\u001b[39m) \u001b[39m==\u001b[39m \u001b[39mint\u001b[39m(get_pw):\n\u001b[1;32m     <a href='vscode-notebook-cell:/home/xyz/Desktop/Projects/iakademi/iakademi_python/python/day_five.ipynb#ch0000006?line=21'>22</a>\u001b[0m         \u001b[39mprint\u001b[39m(\u001b[39m\"\u001b[39m\u001b[39mWelcome \u001b[39m\u001b[39m{name}\u001b[39;00m\u001b[39m\"\u001b[39m\u001b[39m.\u001b[39mformat(name\u001b[39m=\u001b[39mcustomers[i][\u001b[39m'\u001b[39m\u001b[39mName\u001b[39m\u001b[39m'\u001b[39m]))\n\u001b[1;32m     <a href='vscode-notebook-cell:/home/xyz/Desktop/Projects/iakademi/iakademi_python/python/day_five.ipynb#ch0000006?line=22'>23</a>\u001b[0m         \u001b[39mbreak\u001b[39;00m\n",
      "\u001b[0;31mAttributeError\u001b[0m: 'tuple' object has no attribute 'get'"
     ]
    }
   ],
   "source": [
    "customers = {\n",
    "    0: {\n",
    "        'Name': 'Bill',\n",
    "        'phone': '555-1234', \n",
    "        'address': '123 Main St', \n",
    "        'password': 1234\n",
    "    },\n",
    "     1: {\n",
    "        'Name': 'Steve', \n",
    "        'phone': '555-5678', \n",
    "        'address': '890 Market St', \n",
    "        'password': 5675\n",
    "        }\n",
    "    },\n",
    "\n",
    "get_card = input(\"Press any key to confirm your card\")\n",
    "get_pw = int(input(\"Please enter your password: \"))\n",
    "\n",
    "for i in customers:\n",
    "    print(customers[0])\n",
    "    if customers[i][\"password\"] == int(get_pw):\n",
    "        print(\"Welcome {name}\".format(name=customers[i]['Name']))\n",
    "        break"
   ]
  },
  {
   "cell_type": "markdown",
   "metadata": {},
   "source": [
    "_Bill management application for restaurants_"
   ]
  },
  {
   "cell_type": "code",
   "execution_count": 5,
   "metadata": {},
   "outputs": [
    {
     "name": "stdout",
     "output_type": "stream",
     "text": [
      "Occupied: {1, 3, 5}\n",
      "Available: [2, 4, 6, 7, 8, 9, 10]\n",
      "Your total is $40 and you are at Table #4 \n",
      "Your items are: [('Tea', 4)]\n"
     ]
    }
   ],
   "source": [
    "import random\n",
    "products =  {\n",
    "    'Coffee': 20,\n",
    "    'Tea': 10,\n",
    "    'Soda': 15,\n",
    "    'Spring Water': 15,\n",
    "    'Pizza':20,\n",
    "    'Pasta': 25,\n",
    "}\n",
    "\n",
    "check = []\n",
    "purchases = []\n",
    "tables = [1, 2, 3, 4, 5, 6, 7, 8, 9, 10]\n",
    "available_tables = []\n",
    "occupied_tables = set()\n",
    "\n",
    "while len(occupied_tables) <= random.randint(1, 9):\n",
    "    occupied_tables.add(random.randint(1, 10))\n",
    "print(\"Occupied:\", occupied_tables)\n",
    "\n",
    "for i in tables:\n",
    "    if i not in occupied_tables:\n",
    "        available_tables.append(i)\n",
    "print(\"Available:\", available_tables)\n",
    "\n",
    "while True:\n",
    "    get_input = input(\"What would you like: \")\n",
    "    if get_input in products:\n",
    "        get_quantity = int(input(\"How many: \"))\n",
    "        purchases.append((get_input, get_quantity))\n",
    "        check.append(products.get(get_input) * get_quantity)\n",
    "    elif get_input == \"q\":\n",
    "        print(f\"Your total is ${sum(check)} and you are at Table #{random.choice(available_tables)} \\nYour items are: {purchases}\")\n",
    "        break    \n"
   ]
  }
 ],
 "metadata": {
  "interpreter": {
   "hash": "916dbcbb3f70747c44a77c7bcd40155683ae19c65e1c03b4aa3499c5328201f1"
  },
  "kernelspec": {
   "display_name": "Python 3.10.4 64-bit",
   "language": "python",
   "name": "python3"
  },
  "language_info": {
   "codemirror_mode": {
    "name": "ipython",
    "version": 3
   },
   "file_extension": ".py",
   "mimetype": "text/x-python",
   "name": "python",
   "nbconvert_exporter": "python",
   "pygments_lexer": "ipython3",
   "version": "3.10.4"
  },
  "orig_nbformat": 4
 },
 "nbformat": 4,
 "nbformat_minor": 2
}
