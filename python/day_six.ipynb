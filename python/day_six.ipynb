{
 "cells": [
  {
   "cell_type": "markdown",
   "metadata": {},
   "source": [
    "### Introduction to Python 🐍: Object Oriented Programming"
   ]
  },
  {
   "cell_type": "code",
   "execution_count": 11,
   "metadata": {},
   "outputs": [
    {
     "name": "stdout",
     "output_type": "stream",
     "text": [
      "Messi Barcelona\n",
      "Messi Paris Saint Germain\n"
     ]
    }
   ],
   "source": [
    "class Footballer:\n",
    "    name = \"Messi\"\n",
    "    team = \"Barcelona\"\n",
    "\n",
    "f1 = Footballer()\n",
    "print(f1.name, f1.team)\n",
    "\n",
    "f1.team = \"Paris Saint Germain\"\n",
    "print(f1.name, f1.team)\n"
   ]
  },
  {
   "cell_type": "code",
   "execution_count": 10,
   "metadata": {},
   "outputs": [
    {
     "name": "stdout",
     "output_type": "stream",
     "text": [
      "49\n"
     ]
    }
   ],
   "source": [
    "class Square:\n",
    "    def __init__ (self, edge):\n",
    "        self.edge = edge\n",
    "\n",
    "    def area(self):\n",
    "        return self.edge * self.edge\n",
    "\n",
    "s1 = Square(7)\n",
    "s2 = Square(5)\n",
    "s3 = Square(10)\n",
    "print(s1.area())"
   ]
  },
  {
   "cell_type": "code",
   "execution_count": 17,
   "metadata": {},
   "outputs": [
    {
     "name": "stdout",
     "output_type": "stream",
     "text": [
      "5.0\n"
     ]
    }
   ],
   "source": [
    "class Calculator:\n",
    "    def __init__(self, num1, num2):\n",
    "        self.num1 = num1\n",
    "        self.num2 = num2\n",
    "\n",
    "    def add(self):\n",
    "        return self.num1 + self.num2\n",
    "\n",
    "    def sub(self):\n",
    "        return self.num1 - self.num2\n",
    "\n",
    "    def mul(self):\n",
    "        return self.num1 * self.num2\n",
    "\n",
    "    def div(self):\n",
    "        return self.num1 / self.num2\n",
    "\n",
    "print(Calculator(20, 4).div())"
   ]
  },
  {
   "cell_type": "markdown",
   "metadata": {},
   "source": [
    "_Calculator but the inputs are provided by user_"
   ]
  },
  {
   "cell_type": "code",
   "execution_count": 30,
   "metadata": {},
   "outputs": [
    {
     "name": "stdout",
     "output_type": "stream",
     "text": [
      "30\n"
     ]
    }
   ],
   "source": [
    "get_input = int( input(\"Enter 1: \"))\n",
    "get_input2 = int(input(\"Enter 2: \"))\n",
    "get_operation = input(\"Enter operation: \")\n",
    "\n",
    "class Calculator:\n",
    "    def __init__(self, num1, num2, operation):\n",
    "        self.num1 = num1\n",
    "        self.num2 = num2\n",
    "        self.operation = operation\n",
    "        \n",
    "    def add(self):\n",
    "        return self.num1 + self.num2\n",
    "    def sub(self):\n",
    "        return self.num1 - self.num2\n",
    "    def mul(self):\n",
    "        return self.num1 * self.num2\n",
    "    def div(self):\n",
    "        return self.num1 / self.num2        \n",
    "      \n",
    "a = Calculator(get_input, get_input2, get_operation)\n",
    "\n",
    "if get_operation == \"+\":\n",
    "    print(a.add())\n",
    "elif get_operation == \"-\":\n",
    "    print(a.sub())\n",
    "elif get_operation == \"*\":\n",
    "    print(a.mul())\n",
    "elif get_operation == \"/\":\n",
    "    print(a.div())                 \n",
    "\n"
   ]
  },
  {
   "cell_type": "markdown",
   "metadata": {},
   "source": [
    "- Encupsulation"
   ]
  },
  {
   "cell_type": "code",
   "execution_count": 43,
   "metadata": {},
   "outputs": [
    {
     "name": "stdout",
     "output_type": "stream",
     "text": [
      "Messi has €1000 in their account\n",
      "Ronaldo has €2000 in their account\n",
      "Messi has €0 in their account\n",
      "Ronaldo has €2000 in their account\n"
     ]
    }
   ],
   "source": [
    "class BankAccount:\n",
    "    def __init__(self, name, address, balance):\n",
    "        self.name = name\n",
    "        self.address = address\n",
    "        # Double underscores are used to make the variable private\n",
    "        self.__balance = balance\n",
    "    def get_money(self):\n",
    "        return self.__balance\n",
    "    def set_money(self, amount):\n",
    "        self.__balance = amount   \n",
    "\n",
    "p1 = BankAccount(\"Messi\", \"Paris\", 1000)\n",
    "p2 = BankAccount(\"Ronaldo\", \"Manchester\", 2000)\n",
    "\n",
    "print(f\"{p1.name} has €{p1.get_money()} in their account\")\n",
    "print(f\"{p2.name} has €{p2.get_money()} in their account\")\n",
    "\n",
    "p2.set_money(p1.get_money() + p2.get_money())\n",
    "p1.set_money(0)\n",
    "\n",
    "print(f\"{p1.name} has €{p1.get_money()} in their account\")\n",
    "print(f\"{p2.name} has €{p2.get_money()} in their account\")"
   ]
  },
  {
   "cell_type": "markdown",
   "metadata": {},
   "source": [
    "- Inheritance"
   ]
  },
  {
   "cell_type": "code",
   "execution_count": 11,
   "metadata": {},
   "outputs": [
    {
     "name": "stdout",
     "output_type": "stream",
     "text": [
      "Animal created\n",
      "Monkey created\n",
      "Animal\n",
      "Animal can walk\n",
      "Monkey can climb\n",
      "-----------------------\n",
      "Animal created\n",
      "Bird created\n",
      "Bird\n",
      "Bird can walk\n",
      "Bird can fly\n"
     ]
    }
   ],
   "source": [
    "class Animal:\n",
    "    def __init__(self):\n",
    "        print(\"Animal created\")\n",
    "    def toString(self):\n",
    "        print(\"Animal\")\n",
    "    def walk(self):\n",
    "        print(\"Animal can walk\")\n",
    "\n",
    "class Monkey(Animal):\n",
    "    def __init__(self):\n",
    "        super(Monkey, self).__init__()\n",
    "        print(\"Monkey created\")\n",
    "    def climb(self):\n",
    "        print(\"Monkey can climb\")\n",
    "\n",
    "class Bird(Animal):\n",
    "    def __init__(self):\n",
    "        super(Bird, self).__init__()\n",
    "        print(\"Bird created\")\n",
    "    def fly(self):\n",
    "        print(\"Bird can fly\")\n",
    "    def walk(self):\n",
    "        print(\"Bird can walk\")    \n",
    "    def toString(self):\n",
    "        print(\"Bird\")\n",
    "\n",
    "m1 = Monkey()\n",
    "m1.toString()\n",
    "m1.walk()\n",
    "m1.climb()\n",
    "print(\"-----------------------\")\n",
    "b1 = Bird()\n",
    "b1.toString()\n",
    "b1.walk()\n",
    "b1.fly()"
   ]
  },
  {
   "cell_type": "code",
   "execution_count": 55,
   "metadata": {},
   "outputs": [
    {
     "name": "stdout",
     "output_type": "stream",
     "text": [
      "('John', 'Doe', '12345', 'johndoe@mail.com') is logged in\n"
     ]
    }
   ],
   "source": [
    "class Website:\n",
    "    def __init__(self, name, last_name):\n",
    "        self.name = name\n",
    "        self.last_name = last_name\n",
    "\n",
    "    def login(self):\n",
    "        print(f\"{self.name, self.last_name} is logged in\")\n",
    "\n",
    "class Website2(Website):\n",
    "    def __init__(self, name, surname, id):\n",
    "        super(Website2, self).__init__(name, surname)\n",
    "        self.id = id\n",
    "    def login(self):\n",
    "        print(f\"{self.name, self.last_name, self.id, self.email} is logged in\")\n",
    "\n",
    "class Website3(Website2):\n",
    "    def __init__(self, name, surname, id, email):\n",
    "        super(Website3, self).__init__(name, surname, id)\n",
    "        self.email = email\n",
    "    def login(self):\n",
    "        print(f\"{self.name, self.last_name, self.id, self.email} is logged in\")\n",
    "\n",
    "Website3.login(Website3(\"John\", \"Doe\", \"12345\", \"johndoe@mail.com\"))\n"
   ]
  },
  {
   "cell_type": "markdown",
   "metadata": {},
   "source": [
    "- Abstract Methods"
   ]
  },
  {
   "cell_type": "code",
   "execution_count": 58,
   "metadata": {},
   "outputs": [
    {
     "name": "stdout",
     "output_type": "stream",
     "text": [
      "Bird created\n",
      "Bird can fly\n"
     ]
    }
   ],
   "source": [
    "from abc import ABC, abstractmethod\n",
    "\n",
    "class Animal(ABC):\n",
    "    @abstractmethod\n",
    "    def walk(self):\n",
    "        pass\n",
    "\n",
    "    @abstractmethod\n",
    "    def run(self):\n",
    "        pass\n",
    "\n",
    "class Bird(Animal):\n",
    "    def __init__ (self):\n",
    "        print(f\"Bird created\")\n",
    "\n",
    "    def run(self):\n",
    "        print(\"Bird can run\")\n",
    "\n",
    "    def walk(self):\n",
    "        print(\"Bird can walk\")\n",
    "\n",
    "    def fly(self):\n",
    "        print(\"Bird can fly\")\n",
    "\n",
    "b1 = Bird()\n",
    "b1.fly()\n"
   ]
  },
  {
   "cell_type": "markdown",
   "metadata": {},
   "source": [
    "- Polymorphism"
   ]
  },
  {
   "cell_type": "code",
   "execution_count": null,
   "metadata": {},
   "outputs": [],
   "source": [
    "class Employee:\n",
    "    def Raise(self):\n",
    "        raise_rate = 0.1\n",
    "        return 100 + 100 * raise_rate\n",
    "\n",
    "class ComputerEngineer(Employee):\n",
    "    def Raise(self):\n",
    "        raise_rate = 0.2\n",
    "        return 100 + 100 * raise_rate\n",
    "\n",
    "class Manager(Employee):\n",
    "    def Raise(self):\n",
    "        raise_rate = 0.3\n",
    "        return 100 + 100 * raise_rate"
   ]
  },
  {
   "cell_type": "markdown",
   "metadata": {},
   "source": [
    "_Create classes that gives area and perimeter of circle and square as output_"
   ]
  },
  {
   "cell_type": "code",
   "execution_count": 4,
   "metadata": {},
   "outputs": [
    {
     "name": "stdout",
     "output_type": "stream",
     "text": [
      "9\n",
      "12\n"
     ]
    }
   ],
   "source": [
    "from abc import ABC, abstractmethod\n",
    "\n",
    "class Calculate(ABC):\n",
    "    @abstractmethod\n",
    "    def calculate_area(self):\n",
    "        pass\n",
    "    @abstractmethod\n",
    "    def calculate_perimeter(self):\n",
    "        pass\n",
    "\n",
    "class Square(Calculate):\n",
    "    def __init__(self, edge):\n",
    "        self.edge = edge\n",
    "\n",
    "    def calculate_area(self):\n",
    "        return self.edge * self.edge\n",
    "\n",
    "    def calculate_perimeter(self):\n",
    "        return self.edge * 4\n",
    "\n",
    "\n",
    "class Circle(Calculate):\n",
    "    def __init__(self, radius):\n",
    "        self.radius = radius\n",
    "\n",
    "    def calculate_area(self):\n",
    "        return self.radius * self.radius * 3.14\n",
    "\n",
    "    def calculate_perimeter(self):\n",
    "        return self.radius * 2 * 3.14\n",
    "\n",
    "square = Square(3)\n",
    "circle = Circle(4)\n",
    "\n",
    "print(square.calculate_area())\n",
    "print(square.calculate_perimeter())"
   ]
  }
 ],
 "metadata": {
  "interpreter": {
   "hash": "916dbcbb3f70747c44a77c7bcd40155683ae19c65e1c03b4aa3499c5328201f1"
  },
  "kernelspec": {
   "display_name": "Python 3.10.4 64-bit",
   "language": "python",
   "name": "python3"
  },
  "language_info": {
   "codemirror_mode": {
    "name": "ipython",
    "version": 3
   },
   "file_extension": ".py",
   "mimetype": "text/x-python",
   "name": "python",
   "nbconvert_exporter": "python",
   "pygments_lexer": "ipython3",
   "version": "3.10.4"
  },
  "orig_nbformat": 4
 },
 "nbformat": 4,
 "nbformat_minor": 2
}
