{
 "cells": [
  {
   "cell_type": "markdown",
   "metadata": {},
   "source": [
    "### Introduction to Python 🐍: Hello, World!\n",
    "* Data Types and Basic Functions"
   ]
  },
  {
   "cell_type": "code",
   "execution_count": 4,
   "metadata": {},
   "outputs": [
    {
     "name": "stdout",
     "output_type": "stream",
     "text": [
      "hello world\n",
      "<class 'float'>\n",
      "a\n"
     ]
    }
   ],
   "source": [
    "print(\"hello world\")\n",
    "number = 10 # integer\n",
    "number = 10.5 # float\n",
    "print(type(number))\n",
    "\n",
    "string_1 = \"ali\" # string\n",
    "print(string_1[0]) # strings are like arrays; output == \"a\""
   ]
  },
  {
   "cell_type": "markdown",
   "metadata": {},
   "source": [
    "* Convert data type"
   ]
  },
  {
   "cell_type": "code",
   "execution_count": 8,
   "metadata": {},
   "outputs": [
    {
     "name": "stdout",
     "output_type": "stream",
     "text": [
      "10.6 <class 'float'>\n",
      "10.6 <class 'int'>\n",
      "10.6 <class 'str'>\n",
      "0 False\n",
      "False\n"
     ]
    }
   ],
   "source": [
    "number = 10.6\n",
    "\n",
    "print(number, type(number))\n",
    "print(number, type(int(number)))\n",
    "print(number, type(str(number)))\n",
    "\n",
    "# 0 is false in python\n",
    "number = 0 \n",
    "print(number, bool(number))\n",
    "\n",
    "text = \"\"\n",
    "print(bool(text)) # false, because it's empty"
   ]
  },
  {
   "cell_type": "markdown",
   "metadata": {},
   "source": [
    "* ```print()``` Attributes in Python"
   ]
  },
  {
   "cell_type": "code",
   "execution_count": 10,
   "metadata": {},
   "outputs": [
    {
     "name": "stdout",
     "output_type": "stream",
     "text": [
      "5 10 15\n",
      "5\t10\t15\n",
      "5 + 10 + 15\n"
     ]
    }
   ],
   "source": [
    "number_1, number_2, number_3 = 5, 10, 15\n",
    "print(number_1, number_2, number_3)\n",
    "\n",
    "# Seperate items by executing a \"tab\" key press\n",
    "print(number_1, number_2, number_3, sep=\"\\t\")\n",
    "# Move to the next line at the end\n",
    "print(number_1, number_2, number_3, sep=\" + \", end=\"\\n\")"
   ]
  },
  {
   "cell_type": "markdown",
   "metadata": {},
   "source": [
    "* Indexing in Strings"
   ]
  },
  {
   "cell_type": "code",
   "execution_count": 12,
   "metadata": {},
   "outputs": [
    {
     "name": "stdout",
     "output_type": "stream",
     "text": [
      "a <class 'str'>\n",
      "l\n",
      "Hel\n"
     ]
    }
   ],
   "source": [
    "sample_string = \"Hello World\"\n",
    "# Minus indicates that it'll start indexing from the last element\n",
    "print(sample_string[-2])\n",
    "# From zero to third index\n",
    "print(sample_string[0:3])"
   ]
  },
  {
   "cell_type": "markdown",
   "metadata": {},
   "source": [
    "* ```input()``` Method"
   ]
  },
  {
   "cell_type": "code",
   "execution_count": 13,
   "metadata": {},
   "outputs": [
    {
     "name": "stdout",
     "output_type": "stream",
     "text": [
      "4 <class 'str'>\n",
      "<class 'int'>\n"
     ]
    }
   ],
   "source": [
    "name = input(\"Please enter your name: \")\n",
    "print(name, type(name)) # input function takes a string value by default\n",
    "\n",
    "num1 = int(input(\"enter an integer\"))\n",
    "print(type(num1))"
   ]
  },
  {
   "cell_type": "markdown",
   "metadata": {},
   "source": [
    "***Write a program that gets \"float\" data from 2 users and make addition, multiplication, division and print their square power***"
   ]
  },
  {
   "cell_type": "code",
   "execution_count": 15,
   "metadata": {},
   "outputs": [
    {
     "name": "stdout",
     "output_type": "stream",
     "text": [
      "Addition: 8.0\n",
      "Multiplication: 15.0\n",
      "Division: 0.6\n",
      "1st Number's Square: 9.0\n",
      "2nd Number's Square: 25.0\n"
     ]
    }
   ],
   "source": [
    "user1 = float(input(\"Enter first number: \"))\n",
    "user2 = float(input(\"Enter second number: \"))\n",
    "\n",
    "print(\"Addition: \" + str(user1 + user2))\n",
    "print(\"Multiplication: \" + str(user1 * user2))\n",
    "print(\"Division: \" + str(user1 / user2))\n",
    "print(\"1st Number's Square: \" + str(user1 * user1))\n",
    "print(\"2nd Number's Square: \" + str(user2 * user2))"
   ]
  },
  {
   "cell_type": "markdown",
   "metadata": {},
   "source": [
    "- ```if```  &  ```else``` Conditions"
   ]
  },
  {
   "cell_type": "code",
   "execution_count": 18,
   "metadata": {},
   "outputs": [
    {
     "name": "stdout",
     "output_type": "stream",
     "text": [
      "number is positive\n",
      "True\n"
     ]
    }
   ],
   "source": [
    "number = int(input(\"Enter an integer: \"))\n",
    "if number == 0:\n",
    "    print(\"number is 0\")\n",
    "elif number > 0:\n",
    "    print(\"number is positive\")\n",
    "else:\n",
    "    print(\"number is negative\")\n",
    "\n",
    "if number > 5 and number < 8:\n",
    "    print(\"number is between 5 and 8\")\n",
    "\n",
    "# Check if something is in a string\n",
    "text = \"ali\"\n",
    "if \"i\" in text:\n",
    "    print(True)    "
   ]
  },
  {
   "cell_type": "markdown",
   "metadata": {},
   "source": [
    "_Bonus:_"
   ]
  },
  {
   "cell_type": "code",
   "execution_count": 19,
   "metadata": {},
   "outputs": [
    {
     "name": "stdout",
     "output_type": "stream",
     "text": [
      "true\n",
      "false\n",
      "true\n",
      "false\n"
     ]
    }
   ],
   "source": [
    "list_1 = []\n",
    "list_2 = []\n",
    "list_3 = list_1\n",
    "\n",
    "if list_1 == list_2:\n",
    "    print(\"true\")\n",
    "else:\n",
    "    print(\"false\")\n",
    "\n",
    "if list_1 is list_2:\n",
    "    print(\"true\")\n",
    "else:\n",
    "    print(\"false\")\n",
    "\n",
    "if list_1 is list_3: # \"is\" keyword checks for ids\n",
    "    print(\"true\")\n",
    "else:\n",
    "    print(\"true\")\n",
    "\n",
    "list_3 = list_1 + list_2\n",
    "if list_1 is list_3:\n",
    "    print(\"true\")\n",
    "else:\n",
    "    print(\"false\")"
   ]
  },
  {
   "cell_type": "markdown",
   "metadata": {},
   "source": [
    "- Loops: ``` for```"
   ]
  },
  {
   "cell_type": "code",
   "execution_count": 51,
   "metadata": {},
   "outputs": [
    {
     "name": "stdout",
     "output_type": "stream",
     "text": [
      "a-1\tb-2\tc-3\td-4\te-5\tf-6\tg-7\th-8\t\n",
      "\n",
      "0 1 2 3 4 5 6 7 8 9 \n",
      "\n",
      "1 3 5 7 9 \n",
      "\n",
      "1 2 3 4 5 2 4 6 8 10 3 6 9 12 15 4 8 12 16 20 5 10 15 20 25 \n",
      "\n",
      "   1   2   4   5   2   4   8  10   4   8  16  20   5  10  20  25"
     ]
    }
   ],
   "source": [
    "number = 0\n",
    "alphabet = \"abcdefgh\"\n",
    "\n",
    "for chars in alphabet:\n",
    "    print(chars, end=\"-\")\n",
    "    number += 1\n",
    "    print(number, end=\"\\t\")\n",
    "\n",
    "print(\"\\n\")\n",
    "\n",
    "for i in range(10):\n",
    "    print(i, end=\" \")\n",
    "\n",
    "print(\"\\n\")\n",
    "\n",
    "# 3rd param indicates steps, it can also have a negative value to loop backwards\n",
    "for number in range(1, 10, 2): \n",
    "    print(number, end=\" \")\n",
    "\n",
    "print(\"\\n\")\n",
    "\n",
    "# for inside for loop\n",
    "for outterIndex in range(1, 6):\n",
    "    for innerIndex in range(1, 6):\n",
    "        print(outterIndex * innerIndex, end=\" \")\n",
    "print(\"\\n\")\n",
    "\n",
    "# Skip 3 and number's its common divisors in a range\n",
    "for outterIndex in range(1, 6):\n",
    "   if outterIndex == 3:\n",
    "       continue\n",
    "   for innerIndex in range(1, 6):\n",
    "       if innerIndex == 3:\n",
    "           continue\n",
    "       print(f\"{outterIndex*innerIndex:4}\", end=\"\")\n",
    "\n"
   ]
  },
  {
   "cell_type": "markdown",
   "metadata": {},
   "source": [
    "- Loops: ``` while```"
   ]
  },
  {
   "cell_type": "markdown",
   "metadata": {},
   "source": [
    "***Print numbers from 1 to 30 and move to the bottom line a number's remainder equals to zero when divided by ten.***"
   ]
  },
  {
   "cell_type": "code",
   "execution_count": 21,
   "metadata": {},
   "outputs": [
    {
     "name": "stdout",
     "output_type": "stream",
     "text": [
      "1 2 3 4 5 6 7 8 9 10 \n",
      "\n",
      "11 12 13 14 15 16 17 18 19 20 \n",
      "\n",
      "21 22 23 24 25 26 27 28 29 30 \n",
      "\n"
     ]
    }
   ],
   "source": [
    "number = 0\n",
    "while number < 30:\n",
    "    number += 1\n",
    "    print(number, end=\" \")\n",
    "\n",
    "    if(number % 10 == 0):\n",
    "        print(\"\\n\")\n",
    "\n",
    "# Same thing made with for loop\n",
    "# for number in range(1, 31):\n",
    "#     print(number, end=\" \")\n",
    "#     if number % 10 == 0:\n",
    "#         print(\"\\n\")"
   ]
  },
  {
   "cell_type": "code",
   "execution_count": 22,
   "metadata": {},
   "outputs": [
    {
     "name": "stdout",
     "output_type": "stream",
     "text": [
      "1\n",
      "2\n"
     ]
    }
   ],
   "source": [
    "# break keyword in while loop\n",
    "number = 0\n",
    "while True:\n",
    "    number += 1\n",
    "    print(number)\n",
    "    if number == 2:\n",
    "        break"
   ]
  },
  {
   "cell_type": "markdown",
   "metadata": {},
   "source": [
    "***Create a palindrome checker that ignores characters such as \",/!-?\" and the like.***"
   ]
  },
  {
   "cell_type": "code",
   "execution_count": 23,
   "metadata": {},
   "outputs": [
    {
     "name": "stdout",
     "output_type": "stream",
     "text": [
      "This is a palindrome!\n"
     ]
    }
   ],
   "source": [
    "getInput = input(\"Check whether your input is a palindrome: \")\n",
    "getInput = getInput.replace(\" \", \"\")\n",
    "\n",
    "for i in getInput.lower()[0:]:\n",
    "    if not i.isalnum():\n",
    "        getInput = getInput.replace(i, \"\")\n",
    "\n",
    "if getInput.lower()[::-1] == getInput.lower()[0:]:\n",
    "    print(\"This is a palindrome!\")\n",
    "else:\n",
    "    print(\"This is not a palindrome...\")\n",
    "\n",
    "# NOTE: \"isalnum()\" function checks whether the char value is alpha-numeric or not. Returns a boolean."
   ]
  }
 ],
 "metadata": {
  "interpreter": {
   "hash": "916dbcbb3f70747c44a77c7bcd40155683ae19c65e1c03b4aa3499c5328201f1"
  },
  "kernelspec": {
   "display_name": "Python 3.10.4 64-bit",
   "language": "python",
   "name": "python3"
  },
  "language_info": {
   "codemirror_mode": {
    "name": "ipython",
    "version": 3
   },
   "file_extension": ".py",
   "mimetype": "text/x-python",
   "name": "python",
   "nbconvert_exporter": "python",
   "pygments_lexer": "ipython3",
   "version": "3.10.4"
  },
  "orig_nbformat": 4
 },
 "nbformat": 4,
 "nbformat_minor": 2
}
