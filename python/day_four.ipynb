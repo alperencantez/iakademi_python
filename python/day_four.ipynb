{
 "cells": [
  {
   "cell_type": "markdown",
   "metadata": {},
   "source": [
    "### Introduction to Python 🐍: Tuples, Dictonaries, Lists\n"
   ]
  },
  {
   "cell_type": "markdown",
   "metadata": {},
   "source": [
    "_Get a sentence and a letter from user. Then print the entered letter's first occurance in the provided string_"
   ]
  },
  {
   "cell_type": "code",
   "execution_count": 11,
   "metadata": {},
   "outputs": [
    {
     "name": "stdout",
     "output_type": "stream",
     "text": [
      "Character # 4 is M\n"
     ]
    }
   ],
   "source": [
    "get_input = input(\"Enter a sentence: \")\n",
    "get_letter = input(\"Provide a letter: \")\n",
    "\n",
    "for i in get_input:\n",
    "    if i == get_letter:\n",
    "        print(\"Character #\", get_input.index(i) + 1, \"is\", get_letter.upper())\n",
    "        break"
   ]
  },
  {
   "cell_type": "markdown",
   "metadata": {},
   "source": [
    "- Tuples are immutable, meaning that they cannot be changed."
   ]
  },
  {
   "cell_type": "code",
   "execution_count": 13,
   "metadata": {},
   "outputs": [
    {
     "name": "stdout",
     "output_type": "stream",
     "text": [
      "<class 'tuple'>\n"
     ]
    }
   ],
   "source": [
    "tuple_1 = (1, 2, 3, 4, 5)\n",
    "print(type(tuple_1))"
   ]
  },
  {
   "cell_type": "markdown",
   "metadata": {},
   "source": [
    "_Print all even numbers from 0 to 1000 and create a list containing them_"
   ]
  },
  {
   "cell_type": "code",
   "execution_count": 18,
   "metadata": {},
   "outputs": [
    {
     "name": "stdout",
     "output_type": "stream",
     "text": [
      "<class 'tuple'>\n",
      "(0, 2, 4, 6, 8, 10, 12, 14, 16, 18, 20, 22, 24, 26, 28, 30, 32, 34, 36, 38, 40, 42, 44, 46, 48, 50, 52, 54, 56, 58, 60, 62, 64, 66, 68, 70, 72, 74, 76, 78, 80, 82, 84, 86, 88, 90, 92, 94, 96, 98)\n"
     ]
    }
   ],
   "source": [
    "list = []\n",
    "for i in range(100):\n",
    "    if i % 2 == 0:\n",
    "        list.append(i)\n",
    "          \n",
    "my_tuple = tuple(list)\n",
    "print(type(my_tuple))\n",
    "print(my_tuple)   "
   ]
  },
  {
   "cell_type": "markdown",
   "metadata": {},
   "source": [
    "- Dictionary: ```key: value```"
   ]
  },
  {
   "cell_type": "code",
   "execution_count": 32,
   "metadata": {},
   "outputs": [
    {
     "name": "stdout",
     "output_type": "stream",
     "text": [
      "Alp 21\n",
      "Alp\n",
      "Alp\n",
      "('family', 'Animalia')\n",
      "('genus', 'Felis')\n",
      "('species', 'catus')\n"
     ]
    }
   ],
   "source": [
    "dict_1 = {}\n",
    "# or \n",
    "dict_1 = dict()\n",
    "\n",
    "dict_1 = {\n",
    "    0: {\n",
    "        \"name\": \"Alp\",\n",
    "        \"age\": 21,\n",
    "        \"country\": \"Turkey\",\n",
    "        \"city\": \"Izmir\"\n",
    "    },\n",
    "\n",
    "    1: {\n",
    "        \"name\": \"Eren\",\n",
    "        \"age\": 19,\n",
    "        \"country\": \"Turkey\",\n",
    "        \"city\": \"Istanbul\"\n",
    "    }\n",
    "}\n",
    "\n",
    "print(dict_1[0][\"name\"], dict_1[0][\"age\"])\n",
    "\n",
    "dict_2 = {\n",
    "    \"name\": \"Alp\",\n",
    "    \"last_name\": \"Ahmet\",\n",
    "}\n",
    "\n",
    "print(dict_2[\"name\"])\n",
    "# or \".get\" only works on the dictionary\n",
    "print(dict_2.get(\"name\"))\n",
    "\n",
    "dict_3 = {\n",
    "    \"family\": \"Animalia\",\n",
    "    \"genus\": \"Felis\",\n",
    "    \"species\": \"catus\"\n",
    "}\n",
    " # dict_3.clear()\n",
    " # print(dict_3)\n",
    "\n",
    "for i in dict_3.items():\n",
    "    print(i)\n",
    "    # returns a tuple"
   ]
  },
  {
   "cell_type": "markdown",
   "metadata": {},
   "source": [
    "_Create a dictionary containing first names, last names, ages. Keep getting those values using ```input()``` until there are five of them. Exit when \"-1\" is pressed and ask user whose info do they want to get, display the person if their input matches one of the persons' first name_"
   ]
  },
  {
   "cell_type": "code",
   "execution_count": 21,
   "metadata": {},
   "outputs": [
    {
     "name": "stdout",
     "output_type": "stream",
     "text": [
      "{1: {'first_name': 'alperen', 'last_name': 'cantez', 'age': '32'}, 2: {'first_name': 'alperen', 'last_name': '43', 'age': 'cafaf'}, 3: {'first_name': '', 'last_name': '', 'age': ''}, 4: {'first_name': '', 'last_name': '', 'age': ''}, 5: {'first_name': '', 'last_name': '', 'age': ''}} \n",
      "\n",
      "---------------------------------------------- \n",
      "\n",
      "{'first_name': 'alperen', 'last_name': 'cantez', 'age': '32'}\n",
      "{'first_name': 'alperen', 'last_name': '43', 'age': 'cafaf'}\n"
     ]
    }
   ],
   "source": [
    "people = {}\n",
    "counter = 1\n",
    "\n",
    "while True:\n",
    "    f_name = input(\"Enter your first name: \")\n",
    "    l_name = input(\"Enter your last name: \")\n",
    "    age = input(\"Enter your age: \")\n",
    "\n",
    "    people.update({\n",
    "        counter: { \n",
    "            \"first_name\": f_name,\n",
    "            \"last_name\": l_name,\n",
    "            \"age\": age\n",
    "        }\n",
    "     })\n",
    "   \n",
    "    counter += 1\n",
    "    if counter == 6 or f_name == \"-1\" or l_name == \"-1\" or age == \"-1\":\n",
    "        print(people, \"\\n\")\n",
    "        break\n",
    "\n",
    "get_specific_person = input(\"Whose info do you really need?: \")\n",
    "print(\"---------------------------------------------- \\n\")\n",
    "\n",
    "for i in people:\n",
    "    if get_specific_person == people[i][\"first_name\"]:\n",
    "        print(people[i])\n",
    "    "
   ]
  },
  {
   "cell_type": "markdown",
   "metadata": {},
   "source": [
    "_Get an integer input, create a list from 1 - to the given number. And print even & odd numbers in the list_"
   ]
  },
  {
   "cell_type": "code",
   "execution_count": 32,
   "metadata": {},
   "outputs": [
    {
     "name": "stdout",
     "output_type": "stream",
     "text": [
      "Even numbers: [2, 4, 6, 8, 10, 12, 14, 16, 18, 20, 22, 24, 26, 28, 30] \n",
      "Odd numbers: [1, 3, 5, 7, 9, 11, 13, 15, 17, 19, 21, 23, 25, 27, 29]\n"
     ]
    }
   ],
   "source": [
    "get_input = int(input(\"Enter a number: \"))\n",
    "even, odd = [], []\n",
    "\n",
    "for i in range(1, get_input + 1):\n",
    "    if i % 2 == 0:\n",
    "        even.append(i)\n",
    "    else:\n",
    "        odd.append(i)\n",
    "\n",
    "print(\"Even numbers:\", even, \"\\nOdd numbers:\", odd)"
   ]
  }
 ],
 "metadata": {
  "interpreter": {
   "hash": "916dbcbb3f70747c44a77c7bcd40155683ae19c65e1c03b4aa3499c5328201f1"
  },
  "kernelspec": {
   "display_name": "Python 3.10.4 64-bit",
   "language": "python",
   "name": "python3"
  },
  "language_info": {
   "codemirror_mode": {
    "name": "ipython",
    "version": 3
   },
   "file_extension": ".py",
   "mimetype": "text/x-python",
   "name": "python",
   "nbconvert_exporter": "python",
   "pygments_lexer": "ipython3",
   "version": "3.10.4"
  },
  "orig_nbformat": 4
 },
 "nbformat": 4,
 "nbformat_minor": 2
}
